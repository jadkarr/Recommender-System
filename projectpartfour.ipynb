{
 "cells": [
  {
   "cell_type": "markdown",
   "metadata": {},
   "source": [
    "Counterfactual explanations systematically remove some items from the user's\n",
    "previous interactions and then call on the recommendation system again to check if the\n",
    "item they want to provide an explanation for is removed from the user's suggestions. If\n",
    "the item is successfully removed, then the set of items responsible for that alteration is\n",
    "the explanation provided to the user. This would result in an explanation of the form: ''If\n",
    "you had not liked item A, then item B would not have been suggested,'' where A is a set\n",
    "of items removed from the user's feedback, and B is the item the user wanted an\n",
    "explanation for.\n",
    "\n",
    "In this part of the project, the goal is to produce counterfactual explanations for a group\n",
    "of users. Specifically, design (10 points) and implement (10 points) a method that\n",
    "generates counterfactual explanations that adhere to some characteristics to be more\n",
    "in tune with group recommendations. For example, an explanation that only consists of\n",
    "items interacted by a single user is undesirable since it would single out that user to the\n",
    "rest of the group. Ideally, we would like explanations that consist of items most users\n",
    "have interacted with to make the explanation fairer. In this context, it means that no\n",
    "user should have changed their preferences for the group, but the group as a whole is\n",
    "responsible for the suggestions provided by the system. Prepare also a short\n",
    "presentation (about 5 slides) to show how your method works (5 points)."
   ]
  },
  {
   "cell_type": "code",
   "execution_count": null,
   "metadata": {},
   "outputs": [],
   "source": [
    "import pandas as pd\n",
    "import numpy as np"
   ]
  },
  {
   "cell_type": "code",
   "execution_count": null,
   "metadata": {},
   "outputs": [],
   "source": [
    "links = pd.read_csv('ml-latest-small/links.csv')\n",
    "movies = pd.read_csv('ml-latest-small/movies.csv')\n",
    "ratings = pd.read_csv('ml-latest-small/ratings.csv')\n",
    "tags = pd.read_csv('ml-latest-small/tags.csv')\n",
    "\n",
    "print(\"Links Dataset:\")\n",
    "display(links.head())\n",
    "\n",
    "print(\"\\nMovies Dataset:\")\n",
    "display(movies.head())\n",
    "\n",
    "print(\"\\nRatings Dataset:\")\n",
    "display(ratings.head())\n",
    "\n",
    "print(\"\\nTags Dataset:\")\n",
    "display(tags.head())\n",
    "\n",
    "rating_count = ratings.shape[0]\n",
    "print(f\"\\nTotal number of ratings: {rating_count}\")"
   ]
  },
  {
   "cell_type": "code",
   "execution_count": null,
   "metadata": {},
   "outputs": [],
   "source": []
  }
 ],
 "metadata": {
  "language_info": {
   "name": "python"
  }
 },
 "nbformat": 4,
 "nbformat_minor": 2
}
