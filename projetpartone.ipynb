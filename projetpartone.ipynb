{
 "cells": [
  {
   "cell_type": "code",
   "execution_count": null,
   "metadata": {},
   "outputs": [],
   "source": []
  },
  {
   "cell_type": "markdown",
   "metadata": {},
   "source": [
    "(a) Download the MovieLens 100K rating dataset from\n",
    "https://grouplens.org/datasets/movielens/ (the small dataset recommended for\n",
    "education and development). Read the dataset, display the first few rows to understand\n",
    "it, and display the count of ratings (rows) in the dataset to be sure that you download it\n",
    "correctly."
   ]
  },
  {
   "cell_type": "markdown",
   "metadata": {},
   "source": [
    "(b) Implement the user-based collaborative filtering approach, using the Pearson\n",
    "correlation function for computing similarities between users (4 points), and (c) the\n",
    "prediction function presented in class for predicting movies scores (4 points)."
   ]
  },
  {
   "cell_type": "markdown",
   "metadata": {},
   "source": [
    "(d) Design and implement a new similarity function for computing similarities between\n",
    "users. Explain why this similarity function is useful for the collaborative filtering\n",
    "approach. Hint: Exploiting ideas from related works are highly encouraged. 4 points"
   ]
  },
  {
   "cell_type": "markdown",
   "metadata": {},
   "source": [
    "(e) Use the user-based collaborative filtering approach to produce group\n",
    "recommendations. Specifically, first compute the movies recommendations for each\n",
    "user in the group, and then aggregate the lists of the individual users, to produce a\n",
    "single list of movies for the group. You will implement two well established aggregation\n",
    "methods for producing the group recommendations.\n",
    "\n",
    "The second aggregation method is the least misery method, where one member can act\n",
    "as a veto for the rest of the group. In this case, the rating of an item for a group of user is computed as the minimum score assigned to that item in all group members\n",
    "recommendations. 3 points. \n",
    "\n",
    "Use the MovieLens 100K rating dataset for checking the correctness of your solutions."
   ]
  },
  {
   "cell_type": "markdown",
   "metadata": {},
   "source": [
    "\n",
    "(f) Define a way for counting the disagreements between the users in a group and\n",
    "propose a method that takes disagreements into account when computing suggestions\n",
    "for the group. Implement your method and explain why it is useful when producing\n",
    "group recommendations. Prepare also a short presentation (about 5 slides) to show\n",
    "how your method works. 6 points"
   ]
  }
 ],
 "metadata": {
  "language_info": {
   "name": "python"
  }
 },
 "nbformat": 4,
 "nbformat_minor": 2
}
